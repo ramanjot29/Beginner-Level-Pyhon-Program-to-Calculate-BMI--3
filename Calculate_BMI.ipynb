{
  "nbformat": 4,
  "nbformat_minor": 0,
  "metadata": {
    "colab": {
      "provenance": [],
      "authorship_tag": "ABX9TyPmjTueWVefdP17+WG3kl+y",
      "include_colab_link": true
    },
    "kernelspec": {
      "name": "python3",
      "display_name": "Python 3"
    },
    "language_info": {
      "name": "python"
    }
  },
  "cells": [
    {
      "cell_type": "markdown",
      "metadata": {
        "id": "view-in-github",
        "colab_type": "text"
      },
      "source": [
        "<a href=\"https://colab.research.google.com/github/ramanjot29/Beginner-Level--Calculate_BMI--3/blob/main/Calculate_BMI.ipynb\" target=\"_parent\"><img src=\"https://colab.research.google.com/assets/colab-badge.svg\" alt=\"Open In Colab\"/></a>"
      ]
    },
    {
      "cell_type": "code",
      "source": [
        "# Prompt the user for personal information\n",
        "name = input(\"Enter your name: \")\n",
        "age = int(input(\"Enter your age in years: \"))\n",
        "gender = input(\"Enter your gender: \")\n",
        "weight = float(input(\"Enter your weight (in kg): \"))\n",
        "height = float(input(\"Enter your height (in meters): \"))\n",
        "\n",
        "# Calculate the BMI using the formula\n",
        "bmi = weight / (height ** 2)\n",
        "\n",
        "# Print the BMI for the user\n",
        "print(\"BMI of {} is:\".format(name),bmi)\n"
      ],
      "metadata": {
        "id": "lkOsC2gnxF-e"
      },
      "execution_count": null,
      "outputs": []
    }
  ]
}